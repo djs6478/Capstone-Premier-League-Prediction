{
 "cells": [
  {
   "cell_type": "code",
   "execution_count": null,
   "metadata": {},
   "outputs": [],
   "source": [
    "import os\n",
    "import re\n",
    "import glob\n",
    "import numpy as np\n",
    "import pandas as pd"
   ]
  },
  {
   "cell_type": "code",
   "execution_count": 6,
   "metadata": {},
   "outputs": [
    {
     "name": "stdout",
     "output_type": "stream",
     "text": [
      "season 0910.txt -- [done]\n",
      "season 1011.txt -- [done]\n",
      "season 1112.txt -- [done]\n",
      "season 1213.txt -- [done]\n",
      "season 1314.txt -- [done]\n",
      "season 1415.txt -- [done]\n",
      "season 1516.txt -- [done]\n",
      "season 1617.txt -- [done]\n",
      "season 1718.txt -- [done]\n",
      "season 1819.txt -- [done]\n",
      "season 1920.txt -- [done]\n"
     ]
    }
   ],
   "source": [
    "def create_table(season):\n",
    "    dfs_dict = dict()\n",
    "    \n",
    "    for table_type in ['all', 'home', 'away']:\n",
    "        path = f'table/Championship/raw_txt/{table_type}/{season}'\n",
    "        with open(path) as file:\n",
    "            content = file.readlines()\n",
    "            \n",
    "        df = pd.DataFrame(\n",
    "            np.array(content).reshape(-1, 9),\n",
    "            columns=['Rank', 'FullName', 'Name', 'PlayedMatchs', 'Win', 'Draw', 'Loss', 'Goals', 'Points']\n",
    "        )\n",
    "        df = df.applymap(lambda s: s.strip())\n",
    "        intcol = ['PlayedMatchs', 'Win', 'Draw', 'Loss', 'Points']\n",
    "        df[intcol] = df[intcol].applymap(lambda s: int(s))\n",
    "        \n",
    "        dfs_dict[table_type] = df\n",
    "        \n",
    "    df_final = dfs_dict['all'].copy()\n",
    "    df_home = dfs_dict['home'].copy()\n",
    "    df_away = dfs_dict['away'].copy()\n",
    "    \n",
    "    df_final = df_final.merge(\n",
    "        df_home[['FullName', 'Win', 'Draw', 'Loss', 'Goals']], \n",
    "        on='FullName', \n",
    "        suffixes=('', 'Home')\n",
    "    ).merge(\n",
    "        df_away[['FullName', 'Win', 'Draw', 'Loss', 'Goals']], \n",
    "        on='FullName',\n",
    "        suffixes=('', 'Away')\n",
    "    )\n",
    "    \n",
    "    df_final['Name'] = df_final['Name'].str.replace('Wolverhampton', 'Wolves')\n",
    "    return df_final\n",
    "    \n",
    "    \n",
    "if __name__ == '__main__':\n",
    "    seasons = list(filter(lambda s: s.endswith('.txt'), os.listdir('table/Championship/raw_txt/all/')))\n",
    "\n",
    "    for season in seasons:\n",
    "        print(f'season {season} -- ', end='')\n",
    "        table = create_table(season)\n",
    "        table.to_csv(f'table/Championship/csv/{season.replace(\"txt\", \"csv\")}', index=False)\n",
    "        print('[done]')"
   ]
  },
  {
   "cell_type": "code",
   "execution_count": null,
   "metadata": {},
   "outputs": [],
   "source": []
  }
 ],
 "metadata": {
  "kernelspec": {
   "display_name": "Python (learn-env)",
   "language": "python",
   "name": "learn-env"
  },
  "language_info": {
   "codemirror_mode": {
    "name": "ipython",
    "version": 3
   },
   "file_extension": ".py",
   "mimetype": "text/x-python",
   "name": "python",
   "nbconvert_exporter": "python",
   "pygments_lexer": "ipython3",
   "version": "3.8.5"
  }
 },
 "nbformat": 4,
 "nbformat_minor": 4
}
