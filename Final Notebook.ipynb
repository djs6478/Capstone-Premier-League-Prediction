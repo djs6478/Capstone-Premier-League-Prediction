{
 "cells": [
  {
   "cell_type": "markdown",
   "metadata": {},
   "source": [
    "# Premier League Prediction"
   ]
  },
  {
   "cell_type": "markdown",
   "metadata": {},
   "source": [
    "## Overview"
   ]
  },
  {
   "cell_type": "markdown",
   "metadata": {},
   "source": [
    "Soccer gambling is rising in popularity. One of the most popular leagues in the world is the Premier League. A very common form of soccer gambling is betting on the final results of the table. We will create a simulation model to help calculate the probabilties for each team finishing in different spots on the table. "
   ]
  },
  {
   "cell_type": "markdown",
   "metadata": {},
   "source": [
    "## Data Understanding\n"
   ]
  },
  {
   "cell_type": "markdown",
   "metadata": {},
   "source": [
    "This data comes from sofascore.com. The data collected is from the years 2009-2020. Each year seperated into it's own dataset.The raw data started off in txt form. I first had to turn the data in txt form into csv. This turns the raw data folder into the cleaned data folder. You can see this process in the Create Data file under the ParseRawData class. The cleaned data has 8 columns. This is an example of what that data from the 2015-2016 season looks like."
   ]
  },
  {
   "cell_type": "code",
   "execution_count": null,
   "metadata": {},
   "outputs": [
    {
     "name": "stdout",
     "output_type": "stream",
     "text": [
      "importing Jupyter notebook from Modeling.ipynb\n",
      "2010-08-15 to 2018-05-13\n",
      "df.shape = (304, 55)\n",
      "AIC =  1017.4666823857051\n",
      "\n",
      "=======================================\n",
      "Iteration:  1\n",
      "minimal dropped variable:  SelfDS\n",
      "corresponding AIC:  1015.4697051880476\n",
      "original AIC:  1017.4666823857051\n",
      "drop or stop:  [Drop]\n",
      "\n",
      "=======================================\n",
      "Iteration:  2\n",
      "minimal dropped variable:  SelfAS\n",
      "corresponding AIC:  1013.4882115833659\n",
      "original AIC:  1015.4697051880476\n",
      "drop or stop:  [Drop]\n",
      "\n",
      "=======================================\n",
      "Iteration:  3\n",
      "minimal dropped variable:  RivalDS\n",
      "corresponding AIC:  1011.5420651925388\n",
      "original AIC:  1013.4882115833659\n",
      "drop or stop:  [Drop]\n",
      "\n",
      "=======================================\n",
      "Iteration:  4\n",
      "minimal dropped variable:  isDec\n",
      "corresponding AIC:  1009.7313487368906\n",
      "original AIC:  1011.5420651925388\n",
      "drop or stop:  [Drop]\n",
      "\n",
      "=======================================\n",
      "Iteration:  5\n",
      "minimal dropped variable:  Round\n",
      "corresponding AIC:  1007.8745680998599\n",
      "original AIC:  1009.7313487368906\n",
      "drop or stop:  [Drop]\n",
      "\n",
      "=======================================\n",
      "Iteration:  6\n",
      "minimal dropped variable:  bRival5MatchConceded\n",
      "corresponding AIC:  1006.2112108144782\n",
      "original AIC:  1007.8745680998599\n",
      "drop or stop:  [Drop]\n",
      "\n",
      "=======================================\n",
      "Iteration:  7\n",
      "minimal dropped variable:  RivalFromCL\n",
      "corresponding AIC:  1004.5276782897354\n",
      "original AIC:  1006.2112108144782\n",
      "drop or stop:  [Drop]\n",
      "\n",
      "=======================================\n",
      "Iteration:  8\n",
      "minimal dropped variable:  bRival5MatchGoal\n",
      "corresponding AIC:  1003.464938525701\n",
      "original AIC:  1004.5276782897354\n",
      "drop or stop:  [Drop]\n",
      "\n",
      "=======================================\n",
      "Iteration:  9\n",
      "minimal dropped variable:  RivalAS\n",
      "corresponding AIC:  1002.7801669805915\n",
      "original AIC:  1003.464938525701\n",
      "drop or stop:  [Drop]\n",
      "\n",
      "=======================================\n",
      "Iteration:  10\n",
      "minimal dropped variable:  SelfFromCL\n",
      "corresponding AIC:  1002.7801669805915\n",
      "original AIC:  1002.7801669805915\n",
      "drop or stop:  [Drop]\n",
      "\n",
      "=======================================\n",
      "Iteration:  11\n",
      "minimal dropped variable:  isHome\n",
      "corresponding AIC:  1006.089022762852\n",
      "original AIC:  1002.7801669805915\n",
      "drop or stop:  [Stop]\n",
      "\n",
      "Pearson chi2 for this model:\n",
      "Pearson chi2 for HomeAwayModel and PoiDistModel:\n",
      "439.65105446127586\n",
      "633.3456837322947\n",
      "Arsenal / Bournemouth / Brighton / Burnley / Cardiff / Chelsea / Crystal Palace / Everton / Fulham / Huddersfield / Leicester / Liverpool / Man City / Man Utd / Newcastle / Southampton / Spurs / Watford / West Ham / Wolves / \n",
      "Arsenal         272.405   0.920\n",
      "Bournemouth      96.622   0.870\n",
      "Brighton         21.039   0.554\n",
      "Burnley          78.588   0.708\n",
      "Cardiff          36.908   0.998\n",
      "Chelsea         288.976   0.976\n",
      "Crystal Palace  197.927   1.070\n",
      "Everton         258.500   0.873\n",
      "Fulham          124.372   0.840\n",
      "Huddersfield     37.462   1.012\n",
      "Leicester       139.145   0.940\n",
      "Liverpool       324.471   1.096\n",
      "Man City        294.466   0.995\n",
      "Man Utd         258.774   0.877\n",
      "Newcastle       276.494   1.068\n",
      "Southampton     247.949   1.117\n",
      "Spurs           284.540   0.961\n",
      "Watford         112.553   1.014\n",
      "West Ham        217.942   0.841\n",
      "Wolves           61.899   0.836\n"
     ]
    },
    {
     "name": "stderr",
     "output_type": "stream",
     "text": [
      "C:\\Users\\Derek\\anaconda3\\envs\\learn-env\\lib\\site-packages\\scipy\\stats\\_discrete_distns.py:596: RuntimeWarning: invalid value encountered in greater_equal\n",
      "  return mu >= 0\n"
     ]
    },
    {
     "name": "stdout",
     "output_type": "stream",
     "text": [
      "===== use is_win_predict_sep =====\n",
      "----------------------------------\n",
      "********* confuse matrix *********\n",
      "Obs           Win      Draw      Loss\n",
      "Predict                              \n",
      "Win      0.281081  0.089189  0.075676\n",
      "Draw     0.151351  0.067568  0.129730\n",
      "Loss     0.045946  0.029730  0.129730\n",
      "\n",
      "*********** indicator ************\n",
      "Accuracy   -       0.478378\n",
      "Precision  Win     0.630303\n",
      "           Draw    0.193798\n",
      "           Loss    0.631579\n",
      "Recall     Win     0.587571\n",
      "           Draw    0.362319\n",
      "           Loss    0.387097\n",
      "F1 Score   Win     0.608187\n",
      "           Draw    0.252525\n",
      "           Loss    0.480000\n",
      "dtype: float64\n",
      "\n",
      "\n",
      "===== use is_win_predict_jnt =====\n",
      "----------------------------------\n",
      "********* confuse matrix *********\n",
      "Obs           Win      Draw      Loss\n",
      "Predict                              \n",
      "Win      0.316216  0.100000  0.083784\n",
      "Draw     0.083784  0.040541  0.081081\n",
      "Loss     0.078378  0.045946  0.170270\n",
      "\n",
      "*********** indicator ************\n",
      "Accuracy   -       0.527027\n",
      "Precision  Win     0.632432\n",
      "           Draw    0.197368\n",
      "           Loss    0.577982\n",
      "Recall     Win     0.661017\n",
      "           Draw    0.217391\n",
      "           Loss    0.508065\n",
      "F1 Score   Win     0.646409\n",
      "           Draw    0.206897\n",
      "           Loss    0.540773\n",
      "dtype: float64\n",
      "0.05\n"
     ]
    },
    {
     "name": "stderr",
     "output_type": "stream",
     "text": [
      "C:\\Users\\Derek\\anaconda3\\envs\\learn-env\\lib\\site-packages\\scipy\\stats\\_discrete_distns.py:596: RuntimeWarning: invalid value encountered in greater_equal\n",
      "  return mu >= 0\n"
     ]
    },
    {
     "name": "stdout",
     "output_type": "stream",
     "text": [
      "0.15000000000000002\n"
     ]
    },
    {
     "name": "stderr",
     "output_type": "stream",
     "text": [
      "C:\\Users\\Derek\\anaconda3\\envs\\learn-env\\lib\\site-packages\\scipy\\stats\\_discrete_distns.py:596: RuntimeWarning: invalid value encountered in greater_equal\n",
      "  return mu >= 0\n"
     ]
    },
    {
     "name": "stdout",
     "output_type": "stream",
     "text": [
      "0.25000000000000006\n"
     ]
    },
    {
     "name": "stderr",
     "output_type": "stream",
     "text": [
      "C:\\Users\\Derek\\anaconda3\\envs\\learn-env\\lib\\site-packages\\scipy\\stats\\_discrete_distns.py:596: RuntimeWarning: invalid value encountered in greater_equal\n",
      "  return mu >= 0\n"
     ]
    },
    {
     "name": "stdout",
     "output_type": "stream",
     "text": [
      "0.35000000000000003\n"
     ]
    },
    {
     "name": "stderr",
     "output_type": "stream",
     "text": [
      "C:\\Users\\Derek\\anaconda3\\envs\\learn-env\\lib\\site-packages\\scipy\\stats\\_discrete_distns.py:596: RuntimeWarning: invalid value encountered in greater_equal\n",
      "  return mu >= 0\n"
     ]
    },
    {
     "name": "stdout",
     "output_type": "stream",
     "text": [
      "0.45000000000000007\n"
     ]
    },
    {
     "name": "stderr",
     "output_type": "stream",
     "text": [
      "C:\\Users\\Derek\\anaconda3\\envs\\learn-env\\lib\\site-packages\\scipy\\stats\\_discrete_distns.py:596: RuntimeWarning: invalid value encountered in greater_equal\n",
      "  return mu >= 0\n"
     ]
    },
    {
     "name": "stdout",
     "output_type": "stream",
     "text": [
      "0.5500000000000002\n"
     ]
    },
    {
     "name": "stderr",
     "output_type": "stream",
     "text": [
      "C:\\Users\\Derek\\anaconda3\\envs\\learn-env\\lib\\site-packages\\scipy\\stats\\_discrete_distns.py:596: RuntimeWarning: invalid value encountered in greater_equal\n",
      "  return mu >= 0\n"
     ]
    },
    {
     "name": "stdout",
     "output_type": "stream",
     "text": [
      "0.6500000000000001\n"
     ]
    },
    {
     "name": "stderr",
     "output_type": "stream",
     "text": [
      "C:\\Users\\Derek\\anaconda3\\envs\\learn-env\\lib\\site-packages\\scipy\\stats\\_discrete_distns.py:596: RuntimeWarning: invalid value encountered in greater_equal\n",
      "  return mu >= 0\n"
     ]
    },
    {
     "name": "stdout",
     "output_type": "stream",
     "text": [
      "0.7500000000000002\n"
     ]
    },
    {
     "name": "stderr",
     "output_type": "stream",
     "text": [
      "C:\\Users\\Derek\\anaconda3\\envs\\learn-env\\lib\\site-packages\\scipy\\stats\\_discrete_distns.py:596: RuntimeWarning: invalid value encountered in greater_equal\n",
      "  return mu >= 0\n"
     ]
    },
    {
     "name": "stdout",
     "output_type": "stream",
     "text": [
      "0.8500000000000002\n"
     ]
    },
    {
     "name": "stderr",
     "output_type": "stream",
     "text": [
      "C:\\Users\\Derek\\anaconda3\\envs\\learn-env\\lib\\site-packages\\scipy\\stats\\_discrete_distns.py:596: RuntimeWarning: invalid value encountered in greater_equal\n",
      "  return mu >= 0\n"
     ]
    },
    {
     "name": "stdout",
     "output_type": "stream",
     "text": [
      "0.9500000000000002\n"
     ]
    },
    {
     "name": "stderr",
     "output_type": "stream",
     "text": [
      "C:\\Users\\Derek\\anaconda3\\envs\\learn-env\\lib\\site-packages\\scipy\\stats\\_discrete_distns.py:596: RuntimeWarning: invalid value encountered in greater_equal\n",
      "  return mu >= 0\n"
     ]
    },
    {
     "name": "stdout",
     "output_type": "stream",
     "text": [
      "380/380     2019-05-12        Brighton vs Man City       \n",
      "0/200\n",
      "380/380     2019-05-12        Brighton vs Man City       \n",
      "1/200\n",
      "380/380     2019-05-12        Brighton vs Man City       \n",
      "2/200\n",
      "380/380     2019-05-12        Brighton vs Man City       \n",
      "3/200\n",
      "380/380     2019-05-12        Brighton vs Man City       \n",
      "4/200\n",
      "380/380     2019-05-12        Brighton vs Man City       \n",
      "5/200\n",
      "380/380     2019-05-12        Brighton vs Man City       \n",
      "6/200\n",
      "380/380     2019-05-12        Brighton vs Man City       \n",
      "7/200\n",
      "380/380     2019-05-12        Brighton vs Man City       \n",
      "8/200\n",
      "380/380     2019-05-12        Brighton vs Man City       \n",
      "9/200\n",
      "380/380     2019-05-12        Brighton vs Man City       \n",
      "10/200\n",
      "380/380     2019-05-12        Brighton vs Man City       \n",
      "11/200\n",
      "380/380     2019-05-12        Brighton vs Man City       \n",
      "12/200\n",
      "380/380     2019-05-12        Brighton vs Man City       \n",
      "13/200\n",
      "380/380     2019-05-12        Brighton vs Man City       \n",
      "14/200\n",
      "380/380     2019-05-12        Brighton vs Man City       \n",
      "15/200\n",
      "380/380     2019-05-12        Brighton vs Man City       \n",
      "16/200\n",
      "380/380     2019-05-12        Brighton vs Man City       \n",
      "17/200\n",
      "380/380     2019-05-12        Brighton vs Man City       \n",
      "18/200\n",
      "380/380     2019-05-12        Brighton vs Man City       \n",
      "19/200\n",
      "380/380     2019-05-12        Brighton vs Man City       \n",
      "20/200\n",
      "380/380     2019-05-12        Brighton vs Man City       \n",
      "21/200\n",
      "380/380     2019-05-12        Brighton vs Man City       \n",
      "22/200\n",
      "380/380     2019-05-12        Brighton vs Man City       \n",
      "23/200\n",
      "380/380     2019-05-12        Brighton vs Man City       \n",
      "24/200\n",
      "380/380     2019-05-12        Brighton vs Man City       \n",
      "25/200\n",
      "380/380     2019-05-12        Brighton vs Man City       \n",
      "26/200\n",
      "380/380     2019-05-12        Brighton vs Man City       \n",
      "27/200\n",
      "380/380     2019-05-12        Brighton vs Man City       \n",
      "28/200\n",
      "256/380     2019-02-09     Southampton vs Cardiff        \r"
     ]
    }
   ],
   "source": [
    "import pandas as pd\n",
    "import os\n",
    "import numpy as np\n",
    "import matplotlib.pyplot as plt\n",
    "import statsmodels.api as sm\n",
    "import import_ipynb\n",
    "import Modeling"
   ]
  },
  {
   "cell_type": "code",
   "execution_count": 5,
   "metadata": {},
   "outputs": [
    {
     "name": "stdout",
     "output_type": "stream",
     "text": [
      "<class 'pandas.core.frame.DataFrame'>\n",
      "RangeIndex: 380 entries, 0 to 379\n",
      "Data columns (total 10 columns):\n",
      " #   Column      Non-Null Count  Dtype \n",
      "---  ------      --------------  ----- \n",
      " 0   Unnamed: 0  380 non-null    int64 \n",
      " 1   Date        380 non-null    object\n",
      " 2   Weekday     380 non-null    object\n",
      " 3   HomeTeam    380 non-null    object\n",
      " 4   HomeScore   380 non-null    int64 \n",
      " 5   AwayScore   380 non-null    int64 \n",
      " 6   AwayTeam    380 non-null    object\n",
      " 7   Winner      380 non-null    object\n",
      " 8   Stadium     380 non-null    object\n",
      " 9   City        380 non-null    object\n",
      "dtypes: int64(3), object(7)\n",
      "memory usage: 29.8+ KB\n"
     ]
    }
   ],
   "source": [
    "clean_data = pd.read_csv('clean_data/1516.csv')\n",
    "clean_data.info()"
   ]
  },
  {
   "cell_type": "markdown",
   "metadata": {},
   "source": [
    "The next step was to create my own columns using this data. This can be seen in the Create Data file with the MakeTeamData Class. I turned the clean data into team data with the new columns I created, I created 28 unique columns. All of these columns were created using the columns from the clean data. This is an example of what the team data from the year 2015 to 2016 looks like with the team Liverpool."
   ]
  },
  {
   "cell_type": "code",
   "execution_count": null,
   "metadata": {},
   "outputs": [],
   "source": [
    "df = get_df_team('Liverpool')\n",
    "print(df.loc[0, 'Date'], 'to', df.loc[len(df)-1, 'Date'])\n",
    "print('df.shape =', df.shape)\n",
    "\n",
    "df.head()\n"
   ]
  },
  {
   "cell_type": "markdown",
   "metadata": {},
   "source": [
    "For some further data cleaning I turned all of the bool columns into numerical. I also created a points differential columns using the bStdCumPoints and bRivalStdCumPoints. If you need to understand what the columns mean, refer to the column names file in the team_data folder."
   ]
  },
  {
   "cell_type": "markdown",
   "metadata": {},
   "source": [
    "## Simulations"
   ]
  },
  {
   "cell_type": "markdown",
   "metadata": {},
   "source": [
    "Finally, here are the simultations that I use to find the probabilities. First, I have a simulation for just one season. Second I have a simulation that simulates one season 200 times. "
   ]
  },
  {
   "cell_type": "code",
   "execution_count": null,
   "metadata": {},
   "outputs": [],
   "source": [
    "simulate = SimulateAllSeason('1819', team_res_dict)\n",
    "simulate.run(method='sample')\n",
    "simulate.table"
   ]
  },
  {
   "cell_type": "code",
   "execution_count": null,
   "metadata": {},
   "outputs": [],
   "source": [
    "sample_simu_dict = large_simulations(team_res_dict, method='sample', ntimes=200)"
   ]
  },
  {
   "cell_type": "code",
   "execution_count": null,
   "metadata": {},
   "outputs": [],
   "source": [
    "resample_simu_dict = large_simulations(team_res_dict, method='resample', ntimes=200)"
   ]
  },
  {
   "cell_type": "markdown",
   "metadata": {},
   "source": [
    "To compare the results from the simulations I have created this plot. The Y axis is the frequency, the X axis the place on the table. The line down the middle of the graph indicates where they had actually finished during the 2018-2019 season. You can compare this to the distirubtion of results from the simulations. "
   ]
  },
  {
   "cell_type": "markdown",
   "metadata": {},
   "source": [
    "# Conclusion\n"
   ]
  },
  {
   "cell_type": "markdown",
   "metadata": {},
   "source": [
    "This simulation has it's shortcomings. It is not very accurate when it comes to predicting a singular game. This is because there are many factors that can effect the outcome of a game that are not included in this data. Also, you can see that the predictions can lean fairly heavily in one direction. Burnley was predicted to come in last place almost everytime, yet they finshed in 15th. However, most of the teams finished with a couple deviations of where they were predicted to be. The model is a good baseline if you're looking to make a generalized prediction before the year starts. The odds for table predictions change drastically throughout the year. This model would be good to generate those initial odds before the season begins when you don't have data from the current season yet. "
   ]
  }
 ],
 "metadata": {
  "kernelspec": {
   "display_name": "Python (learn-env)",
   "language": "python",
   "name": "learn-env"
  },
  "language_info": {
   "codemirror_mode": {
    "name": "ipython",
    "version": 3
   },
   "file_extension": ".py",
   "mimetype": "text/x-python",
   "name": "python",
   "nbconvert_exporter": "python",
   "pygments_lexer": "ipython3",
   "version": "3.8.5"
  }
 },
 "nbformat": 4,
 "nbformat_minor": 4
}
