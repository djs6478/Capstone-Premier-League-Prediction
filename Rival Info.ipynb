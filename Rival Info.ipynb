{
 "cells": [
  {
   "cell_type": "code",
   "execution_count": 3,
   "metadata": {},
   "outputs": [],
   "source": [
    "import os\n",
    "import re\n",
    "import glob\n",
    "import numpy as np\n",
    "import pandas as pd"
   ]
  },
  {
   "cell_type": "code",
   "execution_count": 4,
   "metadata": {},
   "outputs": [
    {
     "name": "stdout",
     "output_type": "stream",
     "text": [
      "[1011] ---   Arsenal / Aston Villa / Birmingham / Blackburn / Blackpool / Bolton / Chelsea / Everton / Fulham / Liverpool / Man City / Man Utd / Newcastle / Spurs / Stoke / Sunderland / West Brom / West Ham / Wigan / Wolves / \n",
      "[1112] ---   Arsenal / Aston Villa / Blackburn / Bolton / Chelsea / Everton / Fulham / Liverpool / Man City / Man Utd / Newcastle / Norwich / QPR / Spurs / Stoke / Sunderland / Swansea / West Brom / Wigan / Wolves / \n",
      "[1213] ---   Arsenal / Aston Villa / Chelsea / Everton / Fulham / Liverpool / Man City / Man Utd / Newcastle / Norwich / QPR / Reading / Southampton / Spurs / Stoke / Sunderland / Swansea / West Brom / West Ham / Wigan / \n",
      "[1314] ---   Arsenal / Aston Villa / Cardiff / Chelsea / Crystal Palace / Everton / Fulham / Hull / Liverpool / Man City / Man Utd / Newcastle / Norwich / Southampton / Spurs / Stoke / Sunderland / Swansea / West Brom / West Ham / \n",
      "[1415] ---   Arsenal / Aston Villa / Burnley / Chelsea / Crystal Palace / Everton / Hull / Leicester / Liverpool / Man City / Man Utd / Newcastle / QPR / Southampton / Spurs / Stoke / Sunderland / Swansea / West Brom / West Ham / \n",
      "[1516] ---   Arsenal / Aston Villa / Bournemouth / Chelsea / Crystal Palace / Everton / Leicester / Liverpool / Man City / Man Utd / Newcastle / Norwich / Southampton / Spurs / Stoke / Sunderland / Swansea / Watford / West Brom / West Ham / \n",
      "[1617] ---   Arsenal / Bournemouth / Burnley / Chelsea / Crystal Palace / Everton / Hull / Leicester / Liverpool / Man City / Man Utd / Middlesbrough / Southampton / Spurs / Stoke / Sunderland / Swansea / Watford / West Brom / West Ham / \n",
      "[1718] ---   Arsenal / Bournemouth / Brighton / Burnley / Chelsea / Crystal Palace / Everton / Huddersfield / Leicester / Liverpool / Man City / Man Utd / Newcastle / Southampton / Spurs / Stoke / Swansea / Watford / West Brom / West Ham / \n",
      "[1819] ---   Arsenal / Bournemouth / Brighton / Burnley / Cardiff / Chelsea / Crystal Palace / Everton / Fulham / Huddersfield / Leicester / Liverpool / Man City / Man Utd / Newcastle / Southampton / Spurs / Watford / West Ham / Wolves / \n",
      "[1920] ---   Arsenal / Aston Villa / Bournemouth / Brighton / Burnley / Chelsea / Crystal Palace / Everton / Leicester / Liverpool / Man City / Man Utd / Newcastle / Norwich / Sheffield Utd / Southampton / Spurs / Watford / West Ham / Wolves / \n",
      "[2021] ---   Arsenal / Aston Villa / Brighton / Burnley / Chelsea / Crystal Palace / Everton / Fulham / Leeds / Leicester / Liverpool / Man City / Man Utd / Newcastle / Sheffield Utd / Southampton / Spurs / West Brom / West Ham / Wolves / \n"
     ]
    }
   ],
   "source": [
    "def merge_rival_info_to_df_team(team, season):\n",
    "    df_team = pd.read_csv(f'team_data/{season}/{team}.csv')\n",
    "    rivals = df_team['Rival'].unique()\n",
    "\n",
    "    df_rivals = []\n",
    "\n",
    "    for rival in rivals:\n",
    "        df_rival = pd.read_csv(f'team_data/{season}/{rival}.csv')\n",
    "\n",
    "        target_cols = df_rival.columns[df_rival.columns.str.startswith('b')]\n",
    "        target_cols = target_cols.insert(0, 'Date')\n",
    "\n",
    "        df_rivals.append(\n",
    "            df_rival.loc[df_rival['Rival'] == team, target_cols]\n",
    "        )\n",
    "\n",
    "    df_rivals = pd.concat(df_rivals).sort_values(by='Date')\n",
    "    df_rivals.columns = df_rivals.columns.str.replace('b', 'bRival')\n",
    "\n",
    "    df_team = df_team.merge(df_rivals, on='Date')\n",
    "    return df_team\n",
    "\n",
    "\n",
    "if __name__ == '__main__':\n",
    "    for iseason in range(11):\n",
    "        season = str(1011 + iseason * 101)\n",
    "        print(f'[{season}] --- ', end='  ')\n",
    "\n",
    "        allteams = list(\n",
    "            map(\n",
    "                lambda s: s.replace('.csv', ''), \n",
    "                filter(lambda s: s.endswith('csv'), os.listdir(f'team_data/{season}/'))\n",
    "            )\n",
    "        )\n",
    "\n",
    "        df_team_dict = {}    # Dict[str_team_name, df_team]\n",
    "\n",
    "        for team in allteams:\n",
    "            print(team, end=' / ')        \n",
    "            df_team = merge_rival_info_to_df_team(team, season)\n",
    "            df_team_dict[team] = df_team\n",
    "        print()\n",
    "\n",
    "        for team, df_team in df_team_dict.items():\n",
    "            df_team.to_csv(f'team_data/{season}/{team}.csv', index=False)"
   ]
  },
  {
   "cell_type": "code",
   "execution_count": null,
   "metadata": {},
   "outputs": [],
   "source": []
  }
 ],
 "metadata": {
  "kernelspec": {
   "display_name": "Python (learn-env)",
   "language": "python",
   "name": "learn-env"
  },
  "language_info": {
   "codemirror_mode": {
    "name": "ipython",
    "version": 3
   },
   "file_extension": ".py",
   "mimetype": "text/x-python",
   "name": "python",
   "nbconvert_exporter": "python",
   "pygments_lexer": "ipython3",
   "version": "3.8.5"
  }
 },
 "nbformat": 4,
 "nbformat_minor": 4
}
