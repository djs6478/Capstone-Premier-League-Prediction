{
 "cells": [
  {
   "cell_type": "code",
   "execution_count": 4,
   "metadata": {},
   "outputs": [],
   "source": [
    "import os\n",
    "import re\n",
    "import glob\n",
    "import numpy as np\n",
    "import pandas as pd"
   ]
  },
  {
   "cell_type": "code",
   "execution_count": 5,
   "metadata": {},
   "outputs": [
    {
     "name": "stdout",
     "output_type": "stream",
     "text": [
      "[1011] ---   Arsenal / Aston Villa / Birmingham / Blackburn / Blackpool / Bolton / Chelsea / Everton / Fulham / Liverpool / Man City / Man Utd / Newcastle / Spurs / Stoke / Sunderland / West Brom / West Ham / Wigan / Wolves / \n",
      "[1112] ---   Arsenal / Aston Villa / Blackburn / Bolton / Chelsea / Everton / Fulham / Liverpool / Man City / Man Utd / Newcastle / Norwich / QPR / Spurs / Stoke / Sunderland / Swansea / West Brom / Wigan / Wolves / \n",
      "[1213] ---   Arsenal / Aston Villa / Chelsea / Everton / Fulham / Liverpool / Man City / Man Utd / Newcastle / Norwich / QPR / Reading / Southampton / Spurs / Stoke / Sunderland / Swansea / West Brom / West Ham / Wigan / \n",
      "[1314] ---   Arsenal / Aston Villa / Cardiff / Chelsea / Crystal Palace / Everton / Fulham / Hull / Liverpool / Man City / Man Utd / Newcastle / Norwich / Southampton / Spurs / Stoke / Sunderland / Swansea / West Brom / West Ham / \n",
      "[1415] ---   Arsenal / Aston Villa / Burnley / Chelsea / Crystal Palace / Everton / Hull / Leicester / Liverpool / Man City / Man Utd / Newcastle / QPR / Southampton / Spurs / Stoke / Sunderland / Swansea / West Brom / West Ham / \n",
      "[1516] ---   Arsenal / Aston Villa / Bournemouth / Chelsea / Crystal Palace / Everton / Leicester / Liverpool / Man City / Man Utd / Newcastle / Norwich / Southampton / Spurs / Stoke / Sunderland / Swansea / Watford / West Brom / West Ham / \n",
      "[1617] ---   Arsenal / Bournemouth / Burnley / Chelsea / Crystal Palace / Everton / Hull / Leicester / Liverpool / Man City / Man Utd / Middlesbrough / Southampton / Spurs / Stoke / Sunderland / Swansea / Watford / West Brom / West Ham / \n",
      "[1718] ---   Arsenal / Bournemouth / Brighton / Burnley / Chelsea / Crystal Palace / Everton / Huddersfield / Leicester / Liverpool / Man City / Man Utd / Newcastle / Southampton / Spurs / Stoke / Swansea / Watford / West Brom / West Ham / \n",
      "[1819] ---   Arsenal / Bournemouth / Brighton / Burnley / Cardiff / Chelsea / Crystal Palace / Everton / Fulham / Huddersfield / Leicester / Liverpool / Man City / Man Utd / Newcastle / Southampton / Spurs / Watford / West Ham / Wolves / \n",
      "[1920] ---   Arsenal / Aston Villa / Bournemouth / Brighton / Burnley / Chelsea / Crystal Palace / Everton / Leicester / Liverpool / Man City / Man Utd / Newcastle / Norwich / Sheffield Utd / Southampton / Spurs / Watford / West Ham / Wolves / \n",
      "[2021] ---   Arsenal / Aston Villa / Brighton / Burnley / Chelsea / Crystal Palace / Everton / Fulham / Leeds / Leicester / Liverpool / Man City / Man Utd / Newcastle / Sheffield Utd / Southampton / Spurs / West Brom / West Ham / Wolves / \n"
     ]
    }
   ],
   "source": [
    "for iseason in range(11):\n",
    "    season = str(1011 + iseason * 101)\n",
    "    print(f'[{season}] --- ', end='  ')\n",
    "    \n",
    "    allteams = [re.findall('([A-Za-z ]+).csv$', t)[0] for t in glob.glob(f'team_data/{season}/*.csv')]\n",
    "    \n",
    "    # read df of all teams\n",
    "    df_allteams_pts = {}\n",
    "    for team in allteams:\n",
    "        df_allteams_pts[team] = pd.read_csv(f'team_data/{season}/{team}.csv')['bCumPoints']\n",
    "\n",
    "    df_allteams_pts = pd.DataFrame(df_allteams_pts).T\n",
    "    \n",
    "    # mean / std cumulative points\n",
    "    mean_pts = df_allteams_pts.mean()\n",
    "    std_pts = df_allteams_pts.std()\n",
    "\n",
    "    # result: standardized cumulative points\n",
    "    # result.index : all teams, result.columns : round (start from 0)\n",
    "    result = (df_allteams_pts - mean_pts) / std_pts\n",
    "    \n",
    "    # insert standardized cumulative points information into team_data\n",
    "    for team in allteams:\n",
    "        print(team, end=' / ')\n",
    "        std_cumpts = result.loc[team,:]\n",
    "        df_team = pd.read_csv(f'team_data/{season}/{team}.csv')\n",
    "        df_team['bStdCumPoints'] = std_cumpts\n",
    "        df_team.to_csv(f'team_data/{season}/{team}.csv', index=False)\n",
    "    print()"
   ]
  },
  {
   "cell_type": "code",
   "execution_count": null,
   "metadata": {},
   "outputs": [],
   "source": []
  }
 ],
 "metadata": {
  "kernelspec": {
   "display_name": "Python (learn-env)",
   "language": "python",
   "name": "learn-env"
  },
  "language_info": {
   "codemirror_mode": {
    "name": "ipython",
    "version": 3
   },
   "file_extension": ".py",
   "mimetype": "text/x-python",
   "name": "python",
   "nbconvert_exporter": "python",
   "pygments_lexer": "ipython3",
   "version": "3.8.5"
  }
 },
 "nbformat": 4,
 "nbformat_minor": 4
}
